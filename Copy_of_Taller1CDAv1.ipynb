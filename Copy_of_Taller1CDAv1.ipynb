{
  "nbformat": 4,
  "nbformat_minor": 0,
  "metadata": {
    "colab": {
      "provenance": [],
      "collapsed_sections": [],
      "mount_file_id": "1D4bJHwNj5YBbFyklfk8i_oHyg39sBks1",
      "authorship_tag": "ABX9TyMjzchqSqC9ohI1Cd0rS3cn",
      "include_colab_link": true
    },
    "kernelspec": {
      "name": "python3",
      "display_name": "Python 3"
    },
    "language_info": {
      "name": "python"
    }
  },
  "cells": [
    {
      "cell_type": "markdown",
      "metadata": {
        "id": "view-in-github",
        "colab_type": "text"
      },
      "source": [
        "<a href=\"https://colab.research.google.com/github/foramirez50/CDA/blob/main/Copy_of_Taller1CDAv1.ipynb\" target=\"_parent\"><img src=\"https://colab.research.google.com/assets/colab-badge.svg\" alt=\"Open In Colab\"/></a>"
      ]
    },
    {
      "cell_type": "code",
      "execution_count": null,
      "metadata": {
        "colab": {
          "base_uri": "https://localhost:8080/"
        },
        "id": "fF7nziOvJ0Xa",
        "outputId": "10f6f8be-6cb2-4a14-b552-2ee3c399f232"
      },
      "outputs": [
        {
          "output_type": "stream",
          "name": "stdout",
          "text": [
            "Looking in indexes: https://pypi.org/simple, https://us-python.pkg.dev/colab-wheels/public/simple/\n",
            "Requirement already satisfied: pandas-profiling in /usr/local/lib/python3.7/dist-packages (1.4.1)\n",
            "Collecting pandas-profiling\n",
            "  Downloading pandas_profiling-3.2.0-py2.py3-none-any.whl (262 kB)\n",
            "\u001b[K     |████████████████████████████████| 262 kB 5.1 MB/s \n",
            "\u001b[?25hRequirement already satisfied: pandas!=1.0.0,!=1.0.1,!=1.0.2,!=1.1.0,>=0.25.3 in /usr/local/lib/python3.7/dist-packages (from pandas-profiling) (1.3.5)\n",
            "Requirement already satisfied: tqdm>=4.48.2 in /usr/local/lib/python3.7/dist-packages (from pandas-profiling) (4.64.0)\n",
            "Collecting tangled-up-in-unicode==0.2.0\n",
            "  Downloading tangled_up_in_unicode-0.2.0-py3-none-any.whl (4.7 MB)\n",
            "\u001b[K     |████████████████████████████████| 4.7 MB 63.2 MB/s \n",
            "\u001b[?25hRequirement already satisfied: seaborn>=0.10.1 in /usr/local/lib/python3.7/dist-packages (from pandas-profiling) (0.11.2)\n",
            "Collecting htmlmin>=0.1.12\n",
            "  Downloading htmlmin-0.1.12.tar.gz (19 kB)\n",
            "Collecting multimethod>=1.4\n",
            "  Downloading multimethod-1.8-py3-none-any.whl (9.8 kB)\n",
            "Requirement already satisfied: matplotlib>=3.2.0 in /usr/local/lib/python3.7/dist-packages (from pandas-profiling) (3.2.2)\n",
            "Requirement already satisfied: scipy>=1.4.1 in /usr/local/lib/python3.7/dist-packages (from pandas-profiling) (1.7.3)\n",
            "Requirement already satisfied: pydantic>=1.8.1 in /usr/local/lib/python3.7/dist-packages (from pandas-profiling) (1.9.2)\n",
            "Requirement already satisfied: PyYAML>=5.0.0 in /usr/local/lib/python3.7/dist-packages (from pandas-profiling) (6.0)\n",
            "Collecting phik>=0.11.1\n",
            "  Downloading phik-0.12.2-cp37-cp37m-manylinux_2_17_x86_64.manylinux2014_x86_64.whl (690 kB)\n",
            "\u001b[K     |████████████████████████████████| 690 kB 32.2 MB/s \n",
            "\u001b[?25hRequirement already satisfied: jinja2>=2.11.1 in /usr/local/lib/python3.7/dist-packages (from pandas-profiling) (2.11.3)\n",
            "Requirement already satisfied: missingno>=0.4.2 in /usr/local/lib/python3.7/dist-packages (from pandas-profiling) (0.5.1)\n",
            "Collecting requests>=2.24.0\n",
            "  Downloading requests-2.28.1-py3-none-any.whl (62 kB)\n",
            "\u001b[K     |████████████████████████████████| 62 kB 1.6 MB/s \n",
            "\u001b[?25hRequirement already satisfied: joblib~=1.1.0 in /usr/local/lib/python3.7/dist-packages (from pandas-profiling) (1.1.0)\n",
            "Collecting markupsafe~=2.1.1\n",
            "  Downloading MarkupSafe-2.1.1-cp37-cp37m-manylinux_2_17_x86_64.manylinux2014_x86_64.whl (25 kB)\n",
            "Requirement already satisfied: numpy>=1.16.0 in /usr/local/lib/python3.7/dist-packages (from pandas-profiling) (1.21.6)\n",
            "Collecting visions[type_image_path]==0.7.4\n",
            "  Downloading visions-0.7.4-py3-none-any.whl (102 kB)\n",
            "\u001b[K     |████████████████████████████████| 102 kB 10.9 MB/s \n",
            "\u001b[?25hRequirement already satisfied: attrs>=19.3.0 in /usr/local/lib/python3.7/dist-packages (from visions[type_image_path]==0.7.4->pandas-profiling) (22.1.0)\n",
            "Requirement already satisfied: networkx>=2.4 in /usr/local/lib/python3.7/dist-packages (from visions[type_image_path]==0.7.4->pandas-profiling) (2.6.3)\n",
            "Collecting imagehash\n",
            "  Downloading ImageHash-4.2.1.tar.gz (812 kB)\n",
            "\u001b[K     |████████████████████████████████| 812 kB 51.2 MB/s \n",
            "\u001b[?25hRequirement already satisfied: Pillow in /usr/local/lib/python3.7/dist-packages (from visions[type_image_path]==0.7.4->pandas-profiling) (7.1.2)\n",
            "Requirement already satisfied: kiwisolver>=1.0.1 in /usr/local/lib/python3.7/dist-packages (from matplotlib>=3.2.0->pandas-profiling) (1.4.4)\n",
            "Requirement already satisfied: pyparsing!=2.0.4,!=2.1.2,!=2.1.6,>=2.0.1 in /usr/local/lib/python3.7/dist-packages (from matplotlib>=3.2.0->pandas-profiling) (3.0.9)\n",
            "Requirement already satisfied: python-dateutil>=2.1 in /usr/local/lib/python3.7/dist-packages (from matplotlib>=3.2.0->pandas-profiling) (2.8.2)\n",
            "Requirement already satisfied: cycler>=0.10 in /usr/local/lib/python3.7/dist-packages (from matplotlib>=3.2.0->pandas-profiling) (0.11.0)\n",
            "Requirement already satisfied: typing-extensions in /usr/local/lib/python3.7/dist-packages (from kiwisolver>=1.0.1->matplotlib>=3.2.0->pandas-profiling) (4.1.1)\n",
            "Requirement already satisfied: pytz>=2017.3 in /usr/local/lib/python3.7/dist-packages (from pandas!=1.0.0,!=1.0.1,!=1.0.2,!=1.1.0,>=0.25.3->pandas-profiling) (2022.2.1)\n",
            "Requirement already satisfied: six>=1.5 in /usr/local/lib/python3.7/dist-packages (from python-dateutil>=2.1->matplotlib>=3.2.0->pandas-profiling) (1.15.0)\n",
            "Requirement already satisfied: urllib3<1.27,>=1.21.1 in /usr/local/lib/python3.7/dist-packages (from requests>=2.24.0->pandas-profiling) (1.24.3)\n",
            "Requirement already satisfied: charset-normalizer<3,>=2 in /usr/local/lib/python3.7/dist-packages (from requests>=2.24.0->pandas-profiling) (2.1.1)\n",
            "Requirement already satisfied: idna<4,>=2.5 in /usr/local/lib/python3.7/dist-packages (from requests>=2.24.0->pandas-profiling) (2.10)\n",
            "Requirement already satisfied: certifi>=2017.4.17 in /usr/local/lib/python3.7/dist-packages (from requests>=2.24.0->pandas-profiling) (2022.6.15)\n",
            "Requirement already satisfied: PyWavelets in /usr/local/lib/python3.7/dist-packages (from imagehash->visions[type_image_path]==0.7.4->pandas-profiling) (1.3.0)\n",
            "Building wheels for collected packages: htmlmin, imagehash\n",
            "  Building wheel for htmlmin (setup.py) ... \u001b[?25l\u001b[?25hdone\n",
            "  Created wheel for htmlmin: filename=htmlmin-0.1.12-py3-none-any.whl size=27098 sha256=601e1b4a4e75eb00d2f51d299675adbe3b5e1de9cb791e29370586224e3cd7b8\n",
            "  Stored in directory: /root/.cache/pip/wheels/70/e1/52/5b14d250ba868768823940c3229e9950d201a26d0bd3ee8655\n",
            "  Building wheel for imagehash (setup.py) ... \u001b[?25l\u001b[?25hdone\n",
            "  Created wheel for imagehash: filename=ImageHash-4.2.1-py2.py3-none-any.whl size=295206 sha256=cc5d04b5395b19ace58b2e62968cc03ba51b712d319bd223e2e9d1e665ef3b40\n",
            "  Stored in directory: /root/.cache/pip/wheels/4c/d5/59/5e3e297533ddb09407769762985d134135064c6831e29a914e\n",
            "Successfully built htmlmin imagehash\n",
            "Installing collected packages: tangled-up-in-unicode, multimethod, visions, markupsafe, imagehash, requests, phik, htmlmin, pandas-profiling\n",
            "  Attempting uninstall: markupsafe\n",
            "    Found existing installation: MarkupSafe 2.0.1\n",
            "    Uninstalling MarkupSafe-2.0.1:\n",
            "      Successfully uninstalled MarkupSafe-2.0.1\n",
            "  Attempting uninstall: requests\n",
            "    Found existing installation: requests 2.23.0\n",
            "    Uninstalling requests-2.23.0:\n",
            "      Successfully uninstalled requests-2.23.0\n",
            "  Attempting uninstall: pandas-profiling\n",
            "    Found existing installation: pandas-profiling 1.4.1\n",
            "    Uninstalling pandas-profiling-1.4.1:\n",
            "      Successfully uninstalled pandas-profiling-1.4.1\n",
            "Successfully installed htmlmin-0.1.12 imagehash-4.2.1 markupsafe-2.1.1 multimethod-1.8 pandas-profiling-3.2.0 phik-0.12.2 requests-2.28.1 tangled-up-in-unicode-0.2.0 visions-0.7.4\n"
          ]
        }
      ],
      "source": [
        "!pip install --upgrade pandas-profiling"
      ]
    },
    {
      "cell_type": "code",
      "source": [
        "!pip install markupsafe==2.0.1"
      ],
      "metadata": {
        "colab": {
          "base_uri": "https://localhost:8080/"
        },
        "id": "Ahn9GG6-Xzp7",
        "outputId": "5d5814a1-7d59-46bc-b1fd-f43385f9546e"
      },
      "execution_count": null,
      "outputs": [
        {
          "output_type": "stream",
          "name": "stdout",
          "text": [
            "Looking in indexes: https://pypi.org/simple, https://us-python.pkg.dev/colab-wheels/public/simple/\n",
            "Requirement already satisfied: markupsafe==2.0.1 in /usr/local/lib/python3.7/dist-packages (2.0.1)\n"
          ]
        }
      ]
    },
    {
      "cell_type": "code",
      "source": [
        "# Importing libraries\n",
        "from google.colab import drive\n",
        "import numpy as np\n",
        "import pandas as pd\n",
        "\n",
        "import matplotlib.pyplot as plt\n",
        "import seaborn as sns\n",
        "\n",
        "from pandas_profiling import ProfileReport\n",
        "\n",
        "%matplotlib inline"
      ],
      "metadata": {
        "id": "5FCjFBNLX6it"
      },
      "execution_count": 4,
      "outputs": []
    },
    {
      "cell_type": "code",
      "source": [
        "drive.mount('/content/drive')"
      ],
      "metadata": {
        "colab": {
          "base_uri": "https://localhost:8080/"
        },
        "id": "KMQNZnN_YFml",
        "outputId": "382d1e12-bb77-478f-a447-5f11c5e90e33"
      },
      "execution_count": 5,
      "outputs": [
        {
          "output_type": "stream",
          "name": "stdout",
          "text": [
            "Drive already mounted at /content/drive; to attempt to forcibly remount, call drive.mount(\"/content/drive\", force_remount=True).\n"
          ]
        }
      ]
    },
    {
      "cell_type": "code",
      "source": [
        "path=\"/content/drive/MyDrive/Colab Notebooks/MOD1.csv\"\n",
        "df = pd.read_csv(path)\n",
        "\n",
        "df.head(10)"
      ],
      "metadata": {
        "colab": {
          "base_uri": "https://localhost:8080/",
          "height": 363
        },
        "id": "uFJUs6URaRPl",
        "outputId": "d808db8b-462b-493b-9a26-b5b848581dc1"
      },
      "execution_count": 6,
      "outputs": [
        {
          "output_type": "execute_result",
          "data": {
            "text/plain": [
              "            artist                    song  duration_ms explicit  year  \\\n",
              "0   Britney Spears  Oops!...I Did It Again       211160    FALSE  2000   \n",
              "1        blink-182    All The Small Things       167066    FALSE  1999   \n",
              "2       Faith Hill                 Breathe       250546    FALSE  1999   \n",
              "3         Bon Jovi             Its My Life       224493    FALSE  2000   \n",
              "4           *NSYNC             Bye Bye Bye       200560    FALSE  2000   \n",
              "5            Sisqo              Thong Song       253733     TRUE  1999   \n",
              "6           Eminem     The Real Slim Shady       284200     TRUE  2000   \n",
              "7  Robbie Williams                 Rock DJ       258560    FALSE  2000   \n",
              "8   Destinys Child             Say My Name       271333    FALSE  1999   \n",
              "9            Modjo  Lady - Hear Me Tonight       307153    FALSE  2001   \n",
              "\n",
              "   popularity  danceability  energy  key  loudness  mode  speechiness  \\\n",
              "0          77         0.751   0.834    1   -5444.0     0       0.0437   \n",
              "1          79         0.434   0.897    0   -4918.0     1       0.0488   \n",
              "2          66         0.529   0.496    7   -9007.0     1       0.0290   \n",
              "3          78         0.551   0.913    0   -4063.0     0       0.0466   \n",
              "4           0         0.614   0.928    8   -4806.0     0       0.0516   \n",
              "5          69         0.706   0.888    2   -6959.0     1       0.0654   \n",
              "6          86         0.949   0.661    5   -4244.0     0       0.0572   \n",
              "7          68         0.708   0.772    7   -4264.0     1       0.0322   \n",
              "8          75         0.713   0.678    5   -3525.0     0       0.1020   \n",
              "9          77         0.720   0.808    6   -5627.0     1       0.0379   \n",
              "\n",
              "   acousticness  instrumentalness  liveness  valence     tempo  \\\n",
              "0       0.30000          0.000018    0.3550    0.894   95053.0   \n",
              "1       0.01030          0.000000    0.6120    0.684  148726.0   \n",
              "2       0.17300          0.000000    0.2510    0.278  136859.0   \n",
              "3       0.02630          0.000013    0.3470    0.544  119992.0   \n",
              "4       0.04080          0.001040    0.0845    0.879  172656.0   \n",
              "5       0.11900          0.000096    0.0700    0.714  121549.0   \n",
              "6       0.03020          0.000000    0.0454    0.760  104504.0   \n",
              "7       0.02670          0.000000    0.4670    0.861  103035.0   \n",
              "8       0.27300          0.000000    0.1490    0.734  138009.0   \n",
              "9       0.00793          0.029300    0.0634    0.869  126041.0   \n",
              "\n",
              "               genre  \n",
              "0                pop  \n",
              "1          rock- pop  \n",
              "2       pop- country  \n",
              "3        rock- metal  \n",
              "4                pop  \n",
              "5  hip hop- pop- R&B  \n",
              "6            hip hop  \n",
              "7          pop- rock  \n",
              "8           pop- R&B  \n",
              "9   Dance/Electronic  "
            ],
            "text/html": [
              "\n",
              "  <div id=\"df-ac8a38ba-ed5d-4840-89fd-8740721a40c6\">\n",
              "    <div class=\"colab-df-container\">\n",
              "      <div>\n",
              "<style scoped>\n",
              "    .dataframe tbody tr th:only-of-type {\n",
              "        vertical-align: middle;\n",
              "    }\n",
              "\n",
              "    .dataframe tbody tr th {\n",
              "        vertical-align: top;\n",
              "    }\n",
              "\n",
              "    .dataframe thead th {\n",
              "        text-align: right;\n",
              "    }\n",
              "</style>\n",
              "<table border=\"1\" class=\"dataframe\">\n",
              "  <thead>\n",
              "    <tr style=\"text-align: right;\">\n",
              "      <th></th>\n",
              "      <th>artist</th>\n",
              "      <th>song</th>\n",
              "      <th>duration_ms</th>\n",
              "      <th>explicit</th>\n",
              "      <th>year</th>\n",
              "      <th>popularity</th>\n",
              "      <th>danceability</th>\n",
              "      <th>energy</th>\n",
              "      <th>key</th>\n",
              "      <th>loudness</th>\n",
              "      <th>mode</th>\n",
              "      <th>speechiness</th>\n",
              "      <th>acousticness</th>\n",
              "      <th>instrumentalness</th>\n",
              "      <th>liveness</th>\n",
              "      <th>valence</th>\n",
              "      <th>tempo</th>\n",
              "      <th>genre</th>\n",
              "    </tr>\n",
              "  </thead>\n",
              "  <tbody>\n",
              "    <tr>\n",
              "      <th>0</th>\n",
              "      <td>Britney Spears</td>\n",
              "      <td>Oops!...I Did It Again</td>\n",
              "      <td>211160</td>\n",
              "      <td>FALSE</td>\n",
              "      <td>2000</td>\n",
              "      <td>77</td>\n",
              "      <td>0.751</td>\n",
              "      <td>0.834</td>\n",
              "      <td>1</td>\n",
              "      <td>-5444.0</td>\n",
              "      <td>0</td>\n",
              "      <td>0.0437</td>\n",
              "      <td>0.30000</td>\n",
              "      <td>0.000018</td>\n",
              "      <td>0.3550</td>\n",
              "      <td>0.894</td>\n",
              "      <td>95053.0</td>\n",
              "      <td>pop</td>\n",
              "    </tr>\n",
              "    <tr>\n",
              "      <th>1</th>\n",
              "      <td>blink-182</td>\n",
              "      <td>All The Small Things</td>\n",
              "      <td>167066</td>\n",
              "      <td>FALSE</td>\n",
              "      <td>1999</td>\n",
              "      <td>79</td>\n",
              "      <td>0.434</td>\n",
              "      <td>0.897</td>\n",
              "      <td>0</td>\n",
              "      <td>-4918.0</td>\n",
              "      <td>1</td>\n",
              "      <td>0.0488</td>\n",
              "      <td>0.01030</td>\n",
              "      <td>0.000000</td>\n",
              "      <td>0.6120</td>\n",
              "      <td>0.684</td>\n",
              "      <td>148726.0</td>\n",
              "      <td>rock- pop</td>\n",
              "    </tr>\n",
              "    <tr>\n",
              "      <th>2</th>\n",
              "      <td>Faith Hill</td>\n",
              "      <td>Breathe</td>\n",
              "      <td>250546</td>\n",
              "      <td>FALSE</td>\n",
              "      <td>1999</td>\n",
              "      <td>66</td>\n",
              "      <td>0.529</td>\n",
              "      <td>0.496</td>\n",
              "      <td>7</td>\n",
              "      <td>-9007.0</td>\n",
              "      <td>1</td>\n",
              "      <td>0.0290</td>\n",
              "      <td>0.17300</td>\n",
              "      <td>0.000000</td>\n",
              "      <td>0.2510</td>\n",
              "      <td>0.278</td>\n",
              "      <td>136859.0</td>\n",
              "      <td>pop- country</td>\n",
              "    </tr>\n",
              "    <tr>\n",
              "      <th>3</th>\n",
              "      <td>Bon Jovi</td>\n",
              "      <td>Its My Life</td>\n",
              "      <td>224493</td>\n",
              "      <td>FALSE</td>\n",
              "      <td>2000</td>\n",
              "      <td>78</td>\n",
              "      <td>0.551</td>\n",
              "      <td>0.913</td>\n",
              "      <td>0</td>\n",
              "      <td>-4063.0</td>\n",
              "      <td>0</td>\n",
              "      <td>0.0466</td>\n",
              "      <td>0.02630</td>\n",
              "      <td>0.000013</td>\n",
              "      <td>0.3470</td>\n",
              "      <td>0.544</td>\n",
              "      <td>119992.0</td>\n",
              "      <td>rock- metal</td>\n",
              "    </tr>\n",
              "    <tr>\n",
              "      <th>4</th>\n",
              "      <td>*NSYNC</td>\n",
              "      <td>Bye Bye Bye</td>\n",
              "      <td>200560</td>\n",
              "      <td>FALSE</td>\n",
              "      <td>2000</td>\n",
              "      <td>0</td>\n",
              "      <td>0.614</td>\n",
              "      <td>0.928</td>\n",
              "      <td>8</td>\n",
              "      <td>-4806.0</td>\n",
              "      <td>0</td>\n",
              "      <td>0.0516</td>\n",
              "      <td>0.04080</td>\n",
              "      <td>0.001040</td>\n",
              "      <td>0.0845</td>\n",
              "      <td>0.879</td>\n",
              "      <td>172656.0</td>\n",
              "      <td>pop</td>\n",
              "    </tr>\n",
              "    <tr>\n",
              "      <th>5</th>\n",
              "      <td>Sisqo</td>\n",
              "      <td>Thong Song</td>\n",
              "      <td>253733</td>\n",
              "      <td>TRUE</td>\n",
              "      <td>1999</td>\n",
              "      <td>69</td>\n",
              "      <td>0.706</td>\n",
              "      <td>0.888</td>\n",
              "      <td>2</td>\n",
              "      <td>-6959.0</td>\n",
              "      <td>1</td>\n",
              "      <td>0.0654</td>\n",
              "      <td>0.11900</td>\n",
              "      <td>0.000096</td>\n",
              "      <td>0.0700</td>\n",
              "      <td>0.714</td>\n",
              "      <td>121549.0</td>\n",
              "      <td>hip hop- pop- R&amp;B</td>\n",
              "    </tr>\n",
              "    <tr>\n",
              "      <th>6</th>\n",
              "      <td>Eminem</td>\n",
              "      <td>The Real Slim Shady</td>\n",
              "      <td>284200</td>\n",
              "      <td>TRUE</td>\n",
              "      <td>2000</td>\n",
              "      <td>86</td>\n",
              "      <td>0.949</td>\n",
              "      <td>0.661</td>\n",
              "      <td>5</td>\n",
              "      <td>-4244.0</td>\n",
              "      <td>0</td>\n",
              "      <td>0.0572</td>\n",
              "      <td>0.03020</td>\n",
              "      <td>0.000000</td>\n",
              "      <td>0.0454</td>\n",
              "      <td>0.760</td>\n",
              "      <td>104504.0</td>\n",
              "      <td>hip hop</td>\n",
              "    </tr>\n",
              "    <tr>\n",
              "      <th>7</th>\n",
              "      <td>Robbie Williams</td>\n",
              "      <td>Rock DJ</td>\n",
              "      <td>258560</td>\n",
              "      <td>FALSE</td>\n",
              "      <td>2000</td>\n",
              "      <td>68</td>\n",
              "      <td>0.708</td>\n",
              "      <td>0.772</td>\n",
              "      <td>7</td>\n",
              "      <td>-4264.0</td>\n",
              "      <td>1</td>\n",
              "      <td>0.0322</td>\n",
              "      <td>0.02670</td>\n",
              "      <td>0.000000</td>\n",
              "      <td>0.4670</td>\n",
              "      <td>0.861</td>\n",
              "      <td>103035.0</td>\n",
              "      <td>pop- rock</td>\n",
              "    </tr>\n",
              "    <tr>\n",
              "      <th>8</th>\n",
              "      <td>Destinys Child</td>\n",
              "      <td>Say My Name</td>\n",
              "      <td>271333</td>\n",
              "      <td>FALSE</td>\n",
              "      <td>1999</td>\n",
              "      <td>75</td>\n",
              "      <td>0.713</td>\n",
              "      <td>0.678</td>\n",
              "      <td>5</td>\n",
              "      <td>-3525.0</td>\n",
              "      <td>0</td>\n",
              "      <td>0.1020</td>\n",
              "      <td>0.27300</td>\n",
              "      <td>0.000000</td>\n",
              "      <td>0.1490</td>\n",
              "      <td>0.734</td>\n",
              "      <td>138009.0</td>\n",
              "      <td>pop- R&amp;B</td>\n",
              "    </tr>\n",
              "    <tr>\n",
              "      <th>9</th>\n",
              "      <td>Modjo</td>\n",
              "      <td>Lady - Hear Me Tonight</td>\n",
              "      <td>307153</td>\n",
              "      <td>FALSE</td>\n",
              "      <td>2001</td>\n",
              "      <td>77</td>\n",
              "      <td>0.720</td>\n",
              "      <td>0.808</td>\n",
              "      <td>6</td>\n",
              "      <td>-5627.0</td>\n",
              "      <td>1</td>\n",
              "      <td>0.0379</td>\n",
              "      <td>0.00793</td>\n",
              "      <td>0.029300</td>\n",
              "      <td>0.0634</td>\n",
              "      <td>0.869</td>\n",
              "      <td>126041.0</td>\n",
              "      <td>Dance/Electronic</td>\n",
              "    </tr>\n",
              "  </tbody>\n",
              "</table>\n",
              "</div>\n",
              "      <button class=\"colab-df-convert\" onclick=\"convertToInteractive('df-ac8a38ba-ed5d-4840-89fd-8740721a40c6')\"\n",
              "              title=\"Convert this dataframe to an interactive table.\"\n",
              "              style=\"display:none;\">\n",
              "        \n",
              "  <svg xmlns=\"http://www.w3.org/2000/svg\" height=\"24px\"viewBox=\"0 0 24 24\"\n",
              "       width=\"24px\">\n",
              "    <path d=\"M0 0h24v24H0V0z\" fill=\"none\"/>\n",
              "    <path d=\"M18.56 5.44l.94 2.06.94-2.06 2.06-.94-2.06-.94-.94-2.06-.94 2.06-2.06.94zm-11 1L8.5 8.5l.94-2.06 2.06-.94-2.06-.94L8.5 2.5l-.94 2.06-2.06.94zm10 10l.94 2.06.94-2.06 2.06-.94-2.06-.94-.94-2.06-.94 2.06-2.06.94z\"/><path d=\"M17.41 7.96l-1.37-1.37c-.4-.4-.92-.59-1.43-.59-.52 0-1.04.2-1.43.59L10.3 9.45l-7.72 7.72c-.78.78-.78 2.05 0 2.83L4 21.41c.39.39.9.59 1.41.59.51 0 1.02-.2 1.41-.59l7.78-7.78 2.81-2.81c.8-.78.8-2.07 0-2.86zM5.41 20L4 18.59l7.72-7.72 1.47 1.35L5.41 20z\"/>\n",
              "  </svg>\n",
              "      </button>\n",
              "      \n",
              "  <style>\n",
              "    .colab-df-container {\n",
              "      display:flex;\n",
              "      flex-wrap:wrap;\n",
              "      gap: 12px;\n",
              "    }\n",
              "\n",
              "    .colab-df-convert {\n",
              "      background-color: #E8F0FE;\n",
              "      border: none;\n",
              "      border-radius: 50%;\n",
              "      cursor: pointer;\n",
              "      display: none;\n",
              "      fill: #1967D2;\n",
              "      height: 32px;\n",
              "      padding: 0 0 0 0;\n",
              "      width: 32px;\n",
              "    }\n",
              "\n",
              "    .colab-df-convert:hover {\n",
              "      background-color: #E2EBFA;\n",
              "      box-shadow: 0px 1px 2px rgba(60, 64, 67, 0.3), 0px 1px 3px 1px rgba(60, 64, 67, 0.15);\n",
              "      fill: #174EA6;\n",
              "    }\n",
              "\n",
              "    [theme=dark] .colab-df-convert {\n",
              "      background-color: #3B4455;\n",
              "      fill: #D2E3FC;\n",
              "    }\n",
              "\n",
              "    [theme=dark] .colab-df-convert:hover {\n",
              "      background-color: #434B5C;\n",
              "      box-shadow: 0px 1px 3px 1px rgba(0, 0, 0, 0.15);\n",
              "      filter: drop-shadow(0px 1px 2px rgba(0, 0, 0, 0.3));\n",
              "      fill: #FFFFFF;\n",
              "    }\n",
              "  </style>\n",
              "\n",
              "      <script>\n",
              "        const buttonEl =\n",
              "          document.querySelector('#df-ac8a38ba-ed5d-4840-89fd-8740721a40c6 button.colab-df-convert');\n",
              "        buttonEl.style.display =\n",
              "          google.colab.kernel.accessAllowed ? 'block' : 'none';\n",
              "\n",
              "        async function convertToInteractive(key) {\n",
              "          const element = document.querySelector('#df-ac8a38ba-ed5d-4840-89fd-8740721a40c6');\n",
              "          const dataTable =\n",
              "            await google.colab.kernel.invokeFunction('convertToInteractive',\n",
              "                                                     [key], {});\n",
              "          if (!dataTable) return;\n",
              "\n",
              "          const docLinkHtml = 'Like what you see? Visit the ' +\n",
              "            '<a target=\"_blank\" href=https://colab.research.google.com/notebooks/data_table.ipynb>data table notebook</a>'\n",
              "            + ' to learn more about interactive tables.';\n",
              "          element.innerHTML = '';\n",
              "          dataTable['output_type'] = 'display_data';\n",
              "          await google.colab.output.renderOutput(dataTable, element);\n",
              "          const docLink = document.createElement('div');\n",
              "          docLink.innerHTML = docLinkHtml;\n",
              "          element.appendChild(docLink);\n",
              "        }\n",
              "      </script>\n",
              "    </div>\n",
              "  </div>\n",
              "  "
            ]
          },
          "metadata": {},
          "execution_count": 6
        }
      ]
    },
    {
      "cell_type": "code",
      "source": [
        "df.shape\n"
      ],
      "metadata": {
        "colab": {
          "base_uri": "https://localhost:8080/"
        },
        "id": "crzNKyk2BxAg",
        "outputId": "409e377b-5477-4d74-c038-d2aa88a23d55"
      },
      "execution_count": 7,
      "outputs": [
        {
          "output_type": "execute_result",
          "data": {
            "text/plain": [
              "(1941, 18)"
            ]
          },
          "metadata": {},
          "execution_count": 7
        }
      ]
    },
    {
      "cell_type": "code",
      "source": [
        "df.dtypes"
      ],
      "metadata": {
        "colab": {
          "base_uri": "https://localhost:8080/"
        },
        "id": "VV4dgRz-0Zuu",
        "outputId": "1be3f9c8-2a7c-484f-e84c-eb2eb487141a"
      },
      "execution_count": 8,
      "outputs": [
        {
          "output_type": "execute_result",
          "data": {
            "text/plain": [
              "artist               object\n",
              "song                 object\n",
              "duration_ms           int64\n",
              "explicit             object\n",
              "year                  int64\n",
              "popularity            int64\n",
              "danceability        float64\n",
              "energy              float64\n",
              "key                   int64\n",
              "loudness            float64\n",
              "mode                  int64\n",
              "speechiness         float64\n",
              "acousticness        float64\n",
              "instrumentalness    float64\n",
              "liveness            float64\n",
              "valence             float64\n",
              "tempo               float64\n",
              "genre                object\n",
              "dtype: object"
            ]
          },
          "metadata": {},
          "execution_count": 8
        }
      ]
    },
    {
      "cell_type": "markdown",
      "source": [
        "1 ¿Cuál es el top 10 de artistas más activos de los últimos 10 años?"
      ],
      "metadata": {
        "id": "QfvSY2B32KeC"
      }
    },
    {
      "cell_type": "code",
      "source": [
        "# Primer les asigno un contador, los filtro por los últimos 10 años y lo agrupo\n",
        "df = df.assign(count=1) \n",
        "punto1 = df[df['year']>2009]\n",
        "punto1 = punto1.groupby(by='artist').agg({'count':sum}) \n",
        "punto1 = punto1['count'].sort_values(ascending = False).head(10)\n",
        "\n",
        "#ahora grafico\n",
        "plt.figure(figsize = (12, 9))\n",
        "punto1.plot(kind = \"bar\")\n",
        "plt.ylabel(\"Song numbers\")\n",
        "plt.xlabel(\"Artist name\")\n",
        "plt.title(\"More active artist from 2010 to 2020\")\n"
      ],
      "metadata": {
        "colab": {
          "base_uri": "https://localhost:8080/",
          "height": 648
        },
        "id": "WjPTw0fL2KAd",
        "outputId": "dda757fc-f30b-436b-e809-45f60201c5da"
      },
      "execution_count": 18,
      "outputs": [
        {
          "output_type": "execute_result",
          "data": {
            "text/plain": [
              "Text(0.5, 1.0, 'More active artist from 2010 to 2020')"
            ]
          },
          "metadata": {},
          "execution_count": 18
        },
        {
          "output_type": "display_data",
          "data": {
            "text/plain": [
              "<Figure size 864x648 with 1 Axes>"
            ],
            "image/png": "[encoded data removed]"
          },
          "metadata": {
            "needs_background": "light"
          }
        }
      ]
    },
    {
      "cell_type": "markdown",
      "source": [
        "2 ¿Cómo se diferencian las canciones de los géneros de Latin y Folk/Acoustic en relación con\n",
        "su duración? Halle la diferencia del tiempo promedio de ambos géneros."
      ],
      "metadata": {
        "id": "_SUrPyqV4jPI"
      }
    },
    {
      "cell_type": "code",
      "source": [
        "#Primero filtramos todos los generos que contienen la palabra \"folk\", nos aseguroamos que son 20 casos\n",
        "latin = df[df['genre'].str.contains(\"latin\")==True]\n",
        "latin = latin[\"duration_ms\"].mean()\n",
        "latin = latin/1000\n",
        "folk = df[df['genre'].str.contains(\"Folk/Acoustic\")==True]\n",
        "folk = folk[\"duration_ms\"].mean()\n",
        "folk = folk/1000\n",
        "\n",
        "time_difference = latin - folk\n",
        "print (\"La diferencia entre las medias es:\",time_difference,\"seg\")\n",
        "\n",
        "d = {\"Genre\":[\"Folk\",\"Latin\"], \"Mean\":[folk,latin]}\n",
        "punto2 = pd.DataFrame(data=d)\n",
        "punto2.plot.bar(x='Genre',y='Mean')\n",
        "plt.ylabel(\"Duration (seg)\")\n",
        "plt.xlabel(\"Genre\")\n",
        "plt.title(\"Diference between means\")\n"
      ],
      "metadata": {
        "colab": {
          "base_uri": "https://localhost:8080/",
          "height": 346
        },
        "id": "wzXIRz5ZLOTB",
        "outputId": "8b3d1a2a-42c7-445a-c091-a3cbf41843a2"
      },
      "execution_count": 138,
      "outputs": [
        {
          "output_type": "stream",
          "name": "stdout",
          "text": [
            "La diferencia entre las medias es: 7.311032539682543 seg\n"
          ]
        },
        {
          "output_type": "execute_result",
          "data": {
            "text/plain": [
              "Text(0.5, 1.0, 'Diference between means')"
            ]
          },
          "metadata": {},
          "execution_count": 138
        },
        {
          "output_type": "display_data",
          "data": {
            "text/plain": [
              "<Figure size 432x288 with 1 Axes>"
            ],
            "image/png": "[encoded data removed]"
          },
          "metadata": {
            "needs_background": "light"
          }
        }
      ]
    },
    {
      "cell_type": "markdown",
      "source": [
        "3 Halle el top 5 de los géneros del 2019 según la cantidad de canciones. ¿Cómo ha variado la\n",
        "cantidad de canciones del Top de géneros en los años 2000, 2005, 2010, 2015, 2019?"
      ],
      "metadata": {
        "id": "n2ZcdCDeAV5W"
      }
    },
    {
      "cell_type": "code",
      "source": [
        "# Primero filtramos por los años de interes 2000\n",
        "anio2000 = df[df['year']==2000]\n",
        "anio2000 = anio2000.groupby(by='genre').agg({'count':sum}) \n",
        "anio2000 = anio2000['count'].sort_values(ascending = False).head(5)\n",
        "print(anio2000)\n",
        "\n",
        "plt.figure(figsize = (10, 8))\n",
        "barras2000 = anio2000.plot(kind = \"bar\")\n",
        "plt.ylabel(\"Song numbers\")\n",
        "plt.xlabel(\"Genre\")\n",
        "plt.title(\"Top5 of Genre in 2000\")"
      ],
      "metadata": {
        "colab": {
          "base_uri": "https://localhost:8080/",
          "height": 737
        },
        "id": "8AJVjJpVAauT",
        "outputId": "ae2b8e9b-4f38-4dc4-883d-b220a2108593"
      },
      "execution_count": 208,
      "outputs": [
        {
          "output_type": "stream",
          "name": "stdout",
          "text": [
            "genre\n",
            "pop                  16\n",
            "pop- R&B             11\n",
            "hip hop- pop- R&B     9\n",
            "pop- rock             4\n",
            "hip hop               4\n",
            "Name: count, dtype: int64\n"
          ]
        },
        {
          "output_type": "execute_result",
          "data": {
            "text/plain": [
              "Text(0.5, 1.0, 'Top5 of Genre in 2000')"
            ]
          },
          "metadata": {},
          "execution_count": 208
        },
        {
          "output_type": "display_data",
          "data": {
            "text/plain": [
              "<Figure size 720x576 with 1 Axes>"
            ],
            "image/png": "[encoded data removed]"
          },
          "metadata": {
            "needs_background": "light"
          }
        }
      ]
    },
    {
      "cell_type": "code",
      "source": [
        "# 2005\n",
        "anio2005 = df[df['year']==2005]\n",
        "anio2005 = anio2005.groupby(by='genre').agg({'count':sum}) \n",
        "anio2005 = anio2005['count'].sort_values(ascending = False).head(5)\n",
        "\n",
        "plt.figure(figsize = (10, 8))\n",
        "anio2005.plot(kind = \"bar\")\n",
        "plt.ylabel(\"Song numbers\")\n",
        "plt.xlabel(\"Genre\")\n",
        "plt.title(\"Top5 of Genre in 2005\")"
      ],
      "metadata": {
        "colab": {
          "base_uri": "https://localhost:8080/",
          "height": 612
        },
        "id": "nLIZ4dInbbCz",
        "outputId": "e88a74b9-ceee-4967-e799-3f88adf14927"
      },
      "execution_count": 202,
      "outputs": [
        {
          "output_type": "execute_result",
          "data": {
            "text/plain": [
              "Text(0.5, 1.0, 'Top5 of Genre in 2005')"
            ]
          },
          "metadata": {},
          "execution_count": 202
        },
        {
          "output_type": "display_data",
          "data": {
            "text/plain": [
              "<Figure size 720x576 with 1 Axes>"
            ],
            "image/png": "[encoded data removed]"
          },
          "metadata": {
            "needs_background": "light"
          }
        }
      ]
    },
    {
      "cell_type": "code",
      "source": [
        "# 2010\n",
        "anio2010 = df[df['year']==2010]\n",
        "anio2010 = anio2010.groupby(by='genre').agg({'count':sum}) \n",
        "anio2010 = anio2010['count'].sort_values(ascending = False).head(5)\n",
        "\n",
        "plt.figure(figsize = (10, 8))\n",
        "anio2010.plot(kind = \"bar\")\n",
        "plt.ylabel(\"Song numbers\")\n",
        "plt.xlabel(\"Genre\")\n",
        "plt.title(\"Top5 of Genre in 2010\")"
      ],
      "metadata": {
        "colab": {
          "base_uri": "https://localhost:8080/",
          "height": 675
        },
        "id": "oizbKd5Uba5E",
        "outputId": "4151885e-f224-4ff2-dc8f-040845e7e3d0"
      },
      "execution_count": 201,
      "outputs": [
        {
          "output_type": "execute_result",
          "data": {
            "text/plain": [
              "Text(0.5, 1.0, 'Top5 of Genre in 2010')"
            ]
          },
          "metadata": {},
          "execution_count": 201
        },
        {
          "output_type": "display_data",
          "data": {
            "text/plain": [
              "<Figure size 720x576 with 1 Axes>"
            ],
            "image/png": "[encoded data removed]"
          },
          "metadata": {
            "needs_background": "light"
          }
        }
      ]
    },
    {
      "cell_type": "code",
      "source": [
        "# 2015\n",
        "anio2015 = df[df['year']==2015]\n",
        "anio2015 = anio2015.groupby(by='genre').agg({'count':sum}) \n",
        "anio2015 = anio2015['count'].sort_values(ascending = False).head(5)\n",
        "\n",
        "plt.figure(figsize = (10, 8))\n",
        "anio2015.plot(kind = \"bar\")\n",
        "plt.ylabel(\"Song numbers\")\n",
        "plt.xlabel(\"Genre\")\n",
        "plt.title(\"Top5 of Genre in 2015\")"
      ],
      "metadata": {
        "colab": {
          "base_uri": "https://localhost:8080/",
          "height": 631
        },
        "id": "s6CmIMbGbarm",
        "outputId": "947ff9d6-63e1-4409-8aed-d203be461526"
      },
      "execution_count": 200,
      "outputs": [
        {
          "output_type": "execute_result",
          "data": {
            "text/plain": [
              "Text(0.5, 1.0, 'Top5 of Genre in 2015')"
            ]
          },
          "metadata": {},
          "execution_count": 200
        },
        {
          "output_type": "display_data",
          "data": {
            "text/plain": [
              "<Figure size 720x576 with 1 Axes>"
            ],
            "image/png": "[encoded data removed]"
          },
          "metadata": {
            "needs_background": "light"
          }
        }
      ]
    },
    {
      "cell_type": "markdown",
      "source": [
        "Conclusión: el pop siempre ha estado presente en los top5 con un pico en el año 2019. En los años 2005 y 2010, el hip-hop fue protagonista, siendo el 2010 cuando apenas se comenzaba a ver el Dance/Electronic que se consolida en el 2015 y 2019."
      ],
      "metadata": {
        "id": "7GYnmz--vy1T"
      }
    },
    {
      "cell_type": "markdown",
      "source": [
        "4 ¿Cómo ha sido la progresión de nuevos artistas? Asuma que un artista nuevo es aquel del\n",
        "cual no se tiene registros pasados y solo es nuevo durante el primer año de aparición."
      ],
      "metadata": {
        "id": "AkGIAFDqxA3k"
      }
    },
    {
      "cell_type": "code",
      "source": [
        "# Ordenamos todo el dataset por año, de menor a mayor\n",
        "punto4 = df.sort_values(by='year',ascending=True)\n",
        "# hacemos un drop_duplicates por artista con el \"keep first\" para qe sólo deje la primera aparición de ese artista (o grupo de aristas)\n",
        "punto4 = punto4.drop_duplicates(subset='artist',keep='first')\n",
        "# Para asegurarnos que sólo quedaron los nuevos, vemos cuantos artistas tenemos en el dataset, 835 artistas nuevos\n",
        "print(punto4.shape)\n",
        "# Ahora graficamos agrupando por año\n",
        "punto4.groupby('year').agg({'count':sum}).plot(kind='bar')\n",
        "plt.ylabel(\"Number of new artist\")\n",
        "plt.xlabel(\"Year\")\n",
        "plt.title(\"New artist per year\")"
      ],
      "metadata": {
        "colab": {
          "base_uri": "https://localhost:8080/",
          "height": 347
        },
        "id": "rj7Z6yDVJJlL",
        "outputId": "6cc8ea33-1384-441e-97a8-d91045693d32"
      },
      "execution_count": 345,
      "outputs": [
        {
          "output_type": "stream",
          "name": "stdout",
          "text": [
            "(835, 19)\n"
          ]
        },
        {
          "output_type": "execute_result",
          "data": {
            "text/plain": [
              "Text(0.5, 1.0, 'New artist per year')"
            ]
          },
          "metadata": {},
          "execution_count": 345
        },
        {
          "output_type": "display_data",
          "data": {
            "text/plain": [
              "<Figure size 432x288 with 1 Axes>"
            ],
            "image/png": "[encoded data removed]"
          },
          "metadata": {
            "needs_background": "light"
          }
        }
      ]
    },
    {
      "cell_type": "markdown",
      "source": [
        "Conclusión: como podemos ver en el año 2000 y 2001 no tenemos mucho con qué comparar, entonces casi todos los aristas son nuevos, pero después de estos años, ya se ve una disminución con un rango 30 a 45 artistas (o grupo de artistas) nuevos en cada año.\n",
        "Como en el 2000 sólo tenemos pocos registros se ve la escasez de nuevos artistas"
      ],
      "metadata": {
        "id": "wvIbn2wRh7tk"
      }
    },
    {
      "cell_type": "markdown",
      "source": [
        "5 Grafique la progresión de la popularidad promedio por género y por año. Concluya sobre\n",
        "la gráfica, ej: ¿existen tendencias?"
      ],
      "metadata": {
        "id": "3wl6VMy9xWon"
      }
    },
    {
      "cell_type": "code",
      "source": [
        "#viendo que los generos mas populares son pop, rock, hiphop y dance electronic, dividí el df con esos valores\n",
        "pop1 = df[df['genre'].str.contains(\"pop\")==True]\n",
        "pop1['genre']=pop1['genre'].map('pop'.format)\n",
        "\n",
        "rock1 = df[df['genre'].str.contains(\"rock\")==True]\n",
        "rock1['genre']=rock1['genre'].map('rock'.format)\n",
        "\n",
        "hiphop = df[df['genre'].str.contains(\"hip hop\")==True]\n",
        "hiphop['genre']=hiphop['genre'].map('hip hop'.format)\n",
        "\n",
        "danceElectronic = df[df['genre'].str.contains(\"Dance/Electronic\")==True]\n",
        "danceElectronic['genre']=danceElectronic['genre'].map('Dance/Electronic'.format)\n",
        "\n",
        "punto5 = pd.concat([rock1,pop1, hiphop, danceElectronic],ignore_index=True)\n",
        "\n",
        "punto5 = punto5.groupby([\"genre\",\"year\"], as_index=False)['popularity'].mean()\n",
        "\n",
        "plt.figure(figsize = (11, 8))\n",
        "sns.lineplot(y=\"popularity\",x=\"year\",data=punto5, hue=\"genre\",legend=True)\n",
        "plt.legend(bbox_to_anchor=(1.05, 1), loc='upper left', borderaxespad=0)\n"
      ],
      "metadata": {
        "colab": {
          "base_uri": "https://localhost:8080/",
          "height": 942
        },
        "id": "zo0vyH7pJIS7",
        "outputId": "d9922a1d-31ac-460a-8434-fad72d28376b"
      },
      "execution_count": 298,
      "outputs": [
        {
          "output_type": "stream",
          "name": "stderr",
          "text": [
            "/usr/local/lib/python3.7/dist-packages/ipykernel_launcher.py:2: SettingWithCopyWarning: \n",
            "A value is trying to be set on a copy of a slice from a DataFrame.\n",
            "Try using .loc[row_indexer,col_indexer] = value instead\n",
            "\n",
            "See the caveats in the documentation: https://pandas.pydata.org/pandas-docs/stable/user_guide/indexing.html#returning-a-view-versus-a-copy\n",
            "  \n",
            "/usr/local/lib/python3.7/dist-packages/ipykernel_launcher.py:5: SettingWithCopyWarning: \n",
            "A value is trying to be set on a copy of a slice from a DataFrame.\n",
            "Try using .loc[row_indexer,col_indexer] = value instead\n",
            "\n",
            "See the caveats in the documentation: https://pandas.pydata.org/pandas-docs/stable/user_guide/indexing.html#returning-a-view-versus-a-copy\n",
            "  \"\"\"\n",
            "/usr/local/lib/python3.7/dist-packages/ipykernel_launcher.py:8: SettingWithCopyWarning: \n",
            "A value is trying to be set on a copy of a slice from a DataFrame.\n",
            "Try using .loc[row_indexer,col_indexer] = value instead\n",
            "\n",
            "See the caveats in the documentation: https://pandas.pydata.org/pandas-docs/stable/user_guide/indexing.html#returning-a-view-versus-a-copy\n",
            "  \n",
            "/usr/local/lib/python3.7/dist-packages/ipykernel_launcher.py:11: SettingWithCopyWarning: \n",
            "A value is trying to be set on a copy of a slice from a DataFrame.\n",
            "Try using .loc[row_indexer,col_indexer] = value instead\n",
            "\n",
            "See the caveats in the documentation: https://pandas.pydata.org/pandas-docs/stable/user_guide/indexing.html#returning-a-view-versus-a-copy\n",
            "  # This is added back by InteractiveShellApp.init_path()\n"
          ]
        },
        {
          "output_type": "execute_result",
          "data": {
            "text/plain": [
              "<matplotlib.legend.Legend at 0x7fa12a0e0510>"
            ]
          },
          "metadata": {},
          "execution_count": 298
        },
        {
          "output_type": "display_data",
          "data": {
            "text/plain": [
              "<Figure size 792x576 with 1 Axes>"
            ],
            "image/png": "[encoded data removed]"
          },
          "metadata": {
            "needs_background": "light"
          }
        }
      ]
    },
    {
      "cell_type": "markdown",
      "source": [
        "Conclusión:la tendencia más estable es el pop con una subida a mediados del 2018, mientras que el rock a tenido subidas y bajadas, el Dance estaba decayendo y subio en los ultimos años."
      ],
      "metadata": {
        "id": "1pRrqoZrzhwb"
      }
    },
    {
      "cell_type": "markdown",
      "source": [
        "6 Compare los géneros Pop y Rock según sus características de: energy, valence y tempo.\n",
        "Concluya sobre su análisis."
      ],
      "metadata": {
        "id": "znr0wPvKxaEN"
      }
    },
    {
      "cell_type": "code",
      "source": [
        "#Primero filtramos todos los generos que contienen la palabra \"rock\", nos aseguroamos que son 233 casos\n",
        "#dividimos tempo/1000 porque en la tabla la relación está en MiliBPM y lo dividimos sobre 120 para normalizarlo\n",
        "rock = df[df['genre'].str.contains(\"rock\")==True]\n",
        "rockEnergy = rock[\"energy\"].mean()\n",
        "rockValence = rock[\"valence\"].mean()\n",
        "rockTempo = (rock[\"tempo\"].mean()/1000)/120"
      ],
      "metadata": {
        "id": "ZxDbGqKlf18d"
      },
      "execution_count": 243,
      "outputs": []
    },
    {
      "cell_type": "code",
      "source": [
        "#Segundo filtramos todos los generos que contienen la palabra \"pop\", nos aseguroamos que son 1632 casos\n",
        "#dividimos tempo/1000 porque en la tabla la relación está en MiliBPM y lo dividimos sobre 120 para normalizarlo\n",
        "pop = df[df['genre'].str.contains(\"pop\")==True]\n",
        "popEnergy = pop[\"energy\"].mean()\n",
        "popValence = pop[\"valence\"].mean()\n",
        "popTempo = (pop[\"tempo\"].mean()/1000)/120"
      ],
      "metadata": {
        "id": "MN01SQxQiOOx"
      },
      "execution_count": 250,
      "outputs": []
    },
    {
      "cell_type": "code",
      "source": [
        "#creamos un dataframe con la información que tenemos de rock y pop\n",
        "h = {\"Genre\":[\"Pop\",\"Rock\"], \"Energy\":[popEnergy,rockEnergy], \"Valence\":[popValence,rockValence],\"tempo\":[popTempo,rockTempo]}\n",
        "punto6 = pd.DataFrame(data=h)\n",
        "punto6.plot(x=\"Genre\",kind = \"bar\")\n",
        "plt.ylabel(\"Score (0-1)\")\n",
        "plt.xlabel(\"Genre\")\n",
        "plt.title(\"Diference rock and pop\")"
      ],
      "metadata": {
        "colab": {
          "base_uri": "https://localhost:8080/",
          "height": 327
        },
        "id": "7MRh6Li72pTS",
        "outputId": "1ef15b5e-0e4d-4d8c-c802-010bd5030bf4"
      },
      "execution_count": 248,
      "outputs": [
        {
          "output_type": "execute_result",
          "data": {
            "text/plain": [
              "Text(0.5, 1.0, 'Diference rock and pop')"
            ]
          },
          "metadata": {},
          "execution_count": 248
        },
        {
          "output_type": "display_data",
          "data": {
            "text/plain": [
              "<Figure size 432x288 with 1 Axes>"
            ],
            "image/png": "[encoded data removed]"
          },
          "metadata": {
            "needs_background": "light"
          }
        }
      ]
    },
    {
      "cell_type": "markdown",
      "source": [
        "Conclusión: El rock tiene mas intensidad y BPM que el pop, con la misma nota de positivismo"
      ],
      "metadata": {
        "id": "45rYyzxc7wh_"
      }
    },
    {
      "cell_type": "markdown",
      "source": [
        "7 Plantee una pregunta de negocio de su interés, ya sea por tipo de música, artistas u otra\n",
        "dimensión, mediante la cual se analicen al menos 3 variables del dataset y concluya.\n",
        "Quiero comparar las canciones explicitas de un genero popular como el pop, contra un genero de mis preferidos, rock, para así saber ¿qué genero ha sido más explicito a traves del tiempo?"
      ],
      "metadata": {
        "id": "ejxvow8Nxe-F"
      }
    },
    {
      "cell_type": "code",
      "source": [
        "from IPython.core.pylabtools import figsize\n",
        "#filtramos todos los géneros pop y cambio la variedad de generos por \"pop\"\n",
        "pop = df[df['genre'].str.contains(\"pop\")==True]\n",
        "pop[\"explicit\"] = pop[\"explicit\"].astype(bool)\n",
        "pop[\"explicit\"] = pop[\"explicit\"].astype(int)\n",
        "pop['genre']=pop['genre'].map('pop'.format)\n",
        "\n",
        "#filtramos todos los géneros rock y cambio la variedad de generos por \"rock\"\n",
        "rock = df[df['genre'].str.contains(\"rock\")==True]\n",
        "rock[\"explicit\"] = rock[\"explicit\"].astype(bool)\n",
        "rock[\"explicit\"] = rock[\"explicit\"].astype(int)\n",
        "rock['genre']=rock['genre'].map('rock'.format)\n",
        "\n",
        "#unimos los 2 datasets\n",
        "punto7 = pd.concat([rock,pop],ignore_index=True)\n",
        "punto7\n",
        "\n",
        "#ahora graficamos\n",
        "\n",
        "punto7.groupby(['year','genre']).size().unstack().plot(kind=\"bar\", stacked=True,figsize=(12,9))\n",
        "plt.ylabel(\"Number of explicit songs\")\n",
        "plt.xlabel(\"Year\")\n",
        "plt.title(\"Pop and rock explicit songs by year\")"
      ],
      "metadata": {
        "colab": {
          "base_uri": "https://localhost:8080/",
          "height": 1000
        },
        "id": "og1qNWJhmAja",
        "outputId": "de79cde9-32e5-4b9a-da05-7b147e09c656"
      },
      "execution_count": 290,
      "outputs": [
        {
          "output_type": "stream",
          "name": "stderr",
          "text": [
            "/usr/local/lib/python3.7/dist-packages/ipykernel_launcher.py:4: SettingWithCopyWarning: \n",
            "A value is trying to be set on a copy of a slice from a DataFrame.\n",
            "Try using .loc[row_indexer,col_indexer] = value instead\n",
            "\n",
            "See the caveats in the documentation: https://pandas.pydata.org/pandas-docs/stable/user_guide/indexing.html#returning-a-view-versus-a-copy\n",
            "  after removing the cwd from sys.path.\n",
            "/usr/local/lib/python3.7/dist-packages/ipykernel_launcher.py:5: SettingWithCopyWarning: \n",
            "A value is trying to be set on a copy of a slice from a DataFrame.\n",
            "Try using .loc[row_indexer,col_indexer] = value instead\n",
            "\n",
            "See the caveats in the documentation: https://pandas.pydata.org/pandas-docs/stable/user_guide/indexing.html#returning-a-view-versus-a-copy\n",
            "  \"\"\"\n",
            "/usr/local/lib/python3.7/dist-packages/ipykernel_launcher.py:6: SettingWithCopyWarning: \n",
            "A value is trying to be set on a copy of a slice from a DataFrame.\n",
            "Try using .loc[row_indexer,col_indexer] = value instead\n",
            "\n",
            "See the caveats in the documentation: https://pandas.pydata.org/pandas-docs/stable/user_guide/indexing.html#returning-a-view-versus-a-copy\n",
            "  \n",
            "/usr/local/lib/python3.7/dist-packages/ipykernel_launcher.py:10: SettingWithCopyWarning: \n",
            "A value is trying to be set on a copy of a slice from a DataFrame.\n",
            "Try using .loc[row_indexer,col_indexer] = value instead\n",
            "\n",
            "See the caveats in the documentation: https://pandas.pydata.org/pandas-docs/stable/user_guide/indexing.html#returning-a-view-versus-a-copy\n",
            "  # Remove the CWD from sys.path while we load stuff.\n",
            "/usr/local/lib/python3.7/dist-packages/ipykernel_launcher.py:11: SettingWithCopyWarning: \n",
            "A value is trying to be set on a copy of a slice from a DataFrame.\n",
            "Try using .loc[row_indexer,col_indexer] = value instead\n",
            "\n",
            "See the caveats in the documentation: https://pandas.pydata.org/pandas-docs/stable/user_guide/indexing.html#returning-a-view-versus-a-copy\n",
            "  # This is added back by InteractiveShellApp.init_path()\n",
            "/usr/local/lib/python3.7/dist-packages/ipykernel_launcher.py:12: SettingWithCopyWarning: \n",
            "A value is trying to be set on a copy of a slice from a DataFrame.\n",
            "Try using .loc[row_indexer,col_indexer] = value instead\n",
            "\n",
            "See the caveats in the documentation: https://pandas.pydata.org/pandas-docs/stable/user_guide/indexing.html#returning-a-view-versus-a-copy\n",
            "  if sys.path[0] == '':\n"
          ]
        },
        {
          "output_type": "execute_result",
          "data": {
            "text/plain": [
              "Text(0.5, 1.0, 'Pop and rock explicit songs by year')"
            ]
          },
          "metadata": {},
          "execution_count": 290
        },
        {
          "output_type": "display_data",
          "data": {
            "text/plain": [
              "<Figure size 864x648 with 1 Axes>"
            ],
            "image/png": "[encoded data removed]"
          },
          "metadata": {
            "needs_background": "light"
          }
        }
      ]
    },
    {
      "cell_type": "markdown",
      "source": [
        "Conclusión: en esta gráfica se ve claramente que el pop es mucho más explicito que el rock, siendo 15 canciones explicitas el peor año del rock (2001), mientras que el pop tiene unas asombrosas 100 canciones explicitas en el 2012."
      ],
      "metadata": {
        "id": "_p4g7QeUkEyT"
      }
    }
  ]
}